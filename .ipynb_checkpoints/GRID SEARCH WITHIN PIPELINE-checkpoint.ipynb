{
 "cells": [
  {
   "cell_type": "code",
   "execution_count": 428,
   "id": "e121e700",
   "metadata": {},
   "outputs": [],
   "source": [
    "import pandas as pd\n",
    "import pylab as pl\n",
    "import numpy as np\n",
    "import scipy.optimize as opt\n",
    "from sklearn import preprocessing\n",
    "%matplotlib inline \n",
    "import matplotlib.pyplot as plt\n",
    "from sklearn.pipeline import Pipeline\n",
    "from sklearn.linear_model import SGDClassifier\n",
    "from sklearn.linear_model import LogisticRegression\n",
    "from sklearn.metrics import confusion_matrix\n",
    "from sklearn.tree import DecisionTreeClassifier\n",
    "from sklearn.metrics import accuracy_score\n",
    "from sklearn.model_selection import cross_val_score\n",
    "from sklearn.model_selection import KFold\n",
    "from sklearn.model_selection import StratifiedKFold\n",
    "from sklearn.model_selection import RepeatedStratifiedKFold\n",
    "from sklearn.svm import SVC\n",
    "from sklearn.linear_model import LogisticRegression\n",
    "from sklearn.ensemble import RandomForestClassifier\n",
    "from sklearn.model_selection import GridSearchCV\n",
    "from sklearn.model_selection import cross_val_predict\n",
    "from sklearn.metrics import precision_recall_curve\n",
    "from sklearn.metrics import precision_score, recall_score,roc_auc_score, roc_curve, RocCurveDisplay\n",
    "from numpy import mean\n",
    "from sklearn.utils.class_weight import compute_class_weight\n",
    "from sklearn.metrics import classification_report, confusion_matrix\n",
    "from sklearn.model_selection import cross_val_score\n",
    "from sklearn.model_selection import RepeatedStratifiedKFold\n",
    "from sklearn.model_selection import train_test_split\n",
    "from sklearn.preprocessing import StandardScaler\n",
    "from sklearn.preprocessing import MinMaxScaler\n",
    "from sklearn.utils.class_weight import compute_class_weight\n",
    "from sklearn.metrics import jaccard_score\n",
    "import os\n",
    "os.chdir('C:/Users/ThiagoBluhm/OneDrive - Grupo Portfolio/Documentos/ACOCE/dados')\n",
    "pd.set_option('display.max_columns', 100)\n",
    "\n",
    "import warnings\n",
    "warnings.filterwarnings('ignore')"
   ]
  },
  {
   "cell_type": "code",
   "execution_count": 2,
   "id": "6a4da355",
   "metadata": {},
   "outputs": [],
   "source": [
    "base1 = pd.read_csv('treino_tt.csv') # base geral para treino ate 31 de julho\n",
    "base2 = pd.read_csv('treste_tt08.csv')\n",
    "baseteste = pd.read_csv('dados_marco_2022_II.csv') # dados de agosto para teste\n",
    "frames = [base1, base2]\n",
    "treino = pd.concat(frames)"
   ]
  },
  {
   "cell_type": "code",
   "execution_count": 3,
   "id": "69bb8852",
   "metadata": {},
   "outputs": [
    {
     "data": {
      "text/plain": [
       "Index(['Unnamed: 0', 'E3TimeStamp', 'Velocidade', 'CorrenteMotorCalibracao',\n",
       "       'CorrenteMotorFormacao1', 'CorrenteMotorFormacao2',\n",
       "       'RPMMotorCalibracao', 'RPMMotorFormacao1', 'RPMMotorFormacao2',\n",
       "       'VelocidadePadrao', 'PerformanceInstantanea', 'TipoMaterial', 'Altura',\n",
       "       'Base', 'Diametro', 'Espessura', 'VazaoDiscoCorte',\n",
       "       'TemperaturaDiscoCorte', 'Status', 'Data'],\n",
       "      dtype='object')"
      ]
     },
     "execution_count": 3,
     "metadata": {},
     "output_type": "execute_result"
    }
   ],
   "source": [
    "baseteste.columns"
   ]
  },
  {
   "cell_type": "code",
   "execution_count": 4,
   "id": "173cfe56",
   "metadata": {},
   "outputs": [],
   "source": [
    "baseteste.rename( columns={\n",
    "       'CorrenteMotorCalibracao':'Corrente Motor Calibracao', 'CorrenteMotorFormacao1':'Corrente Motor Formacao 1',\n",
    "       'CorrenteMotorFormacao2':'Corrente Motor Formacao 2', 'RPMMotorCalibracao':'RPM Motor Calibracao',\n",
    "       'RPMMotorFormacao1':'RPM Motor Formacao 1', 'RPMMotorFormacao2':'RPM Motor Formacao 2', 'VelocidadePadrao':'VelocidadePadrao',\n",
    "       'PerformanceInstantanea':'Performance Instantanea', 'TipoMaterial':'Tipo_Material', 'Altura':'Altura', 'Base':'Base',\n",
    "       'Diametro':'Diametro', 'VazaoDiscoCorte':'Vazao_DiscoCorte', 'TemperaturaDiscoCorte':'Temperatura_DiscoCorte'}, inplace=True)"
   ]
  },
  {
   "cell_type": "code",
   "execution_count": 6,
   "id": "4ceb9167",
   "metadata": {},
   "outputs": [],
   "source": [
    "treino_f = treino.iloc[:, 3:20]\n",
    "teste_f = baseteste.iloc[:, 3:20]\n",
    "treino__ = treino_f.loc[:, ['Corrente Motor Calibracao', 'Corrente Motor Formacao 1',\n",
    "       'Corrente Motor Formacao 2', 'RPM Motor Calibracao',\n",
    "       'RPM Motor Formacao 1', 'RPM Motor Formacao 2', 'VelocidadePadrao',\n",
    "       'Performance Instantanea',  'Altura', 'Base',\n",
    "       'Diametro', 'Espessura', 'Vazao_DiscoCorte', 'Temperatura_DiscoCorte',\n",
    "       'Status']]\n",
    "teste__ = teste_f.loc[:, [ 'Corrente Motor Calibracao', 'Corrente Motor Formacao 1',\n",
    "       'Corrente Motor Formacao 2', 'RPM Motor Calibracao',\n",
    "       'RPM Motor Formacao 1', 'RPM Motor Formacao 2', 'VelocidadePadrao',\n",
    "       'Performance Instantanea',  'Altura', 'Base',\n",
    "       'Diametro', 'Espessura', 'Vazao_DiscoCorte', 'Temperatura_DiscoCorte',\n",
    "       'Status']]\n",
    "\n",
    "#betas significantes\n",
    "treino_bes = treino_f.loc[:, ['Corrente Motor Formacao 1', 'RPM Motor Calibracao','VelocidadePadrao','Performance Instantanea','Tipo_Material',\n",
    "       'Diametro', 'Status']]\n",
    "teste_bes = teste_f.loc[:, ['Corrente Motor Formacao 1', 'RPM Motor Calibracao','VelocidadePadrao','Performance Instantanea','Tipo_Material',\n",
    "       'Diametro', 'Status']]"
   ]
  },
  {
   "cell_type": "code",
   "execution_count": 72,
   "id": "f7d3144b",
   "metadata": {},
   "outputs": [
    {
     "data": {
      "text/plain": [
       "((42450, 7), (5612, 7))"
      ]
     },
     "execution_count": 72,
     "metadata": {},
     "output_type": "execute_result"
    }
   ],
   "source": [
    "#tamanho dos datasets\n",
    "treino_bes.shape, teste_bes.shape"
   ]
  },
  {
   "cell_type": "markdown",
   "id": "705f16c9",
   "metadata": {},
   "source": [
    "### Split "
   ]
  },
  {
   "cell_type": "code",
   "execution_count": 7,
   "id": "26cfc7fc",
   "metadata": {},
   "outputs": [],
   "source": [
    "X_treino = treino__.drop(columns='Status', axis=1)\n",
    "y_treino = treino__['Status']\n",
    "X_teste = teste__.drop(columns='Status', axis=1)\n",
    "y_teste = teste__['Status']\n",
    "\n",
    "#np.random.seed(42)\n",
    "#cv = RepeatedStratifiedKFold(n_splits=5, n_repeats=3, random_state=1)\n",
    "\n",
    "#X_treino, X_teste, y_treino, y_teste = train_test_split(X, y, test_size=0.25, stratify=y)'''"
   ]
  },
  {
   "cell_type": "code",
   "execution_count": 8,
   "id": "a1a4e26c",
   "metadata": {},
   "outputs": [
    {
     "data": {
      "text/plain": [
       "((42450, 14), (42450,))"
      ]
     },
     "execution_count": 8,
     "metadata": {},
     "output_type": "execute_result"
    }
   ],
   "source": [
    "X_treino.shape, y_treino.shape"
   ]
  },
  {
   "cell_type": "markdown",
   "id": "421b32c3",
   "metadata": {},
   "source": [
    "### Transforma para NParray "
   ]
  },
  {
   "cell_type": "code",
   "execution_count": 9,
   "id": "2c5e16b7",
   "metadata": {},
   "outputs": [],
   "source": [
    "Xtreino = np.asarray(X_treino)\n",
    "ytreino = np.asarray(y_treino)\n",
    "Xteste = np.asarray(X_teste)\n",
    "yteste = np.asarray(y_teste)"
   ]
  },
  {
   "cell_type": "markdown",
   "id": "b7a71370",
   "metadata": {},
   "source": [
    "### ClassWeight classification "
   ]
  },
  {
   "cell_type": "code",
   "execution_count": 10,
   "id": "e3eede99",
   "metadata": {},
   "outputs": [
    {
     "data": {
      "text/plain": [
       "array([0.53566021, 7.51061571])"
      ]
     },
     "execution_count": 10,
     "metadata": {},
     "output_type": "execute_result"
    }
   ],
   "source": [
    "weighting = compute_class_weight('balanced', [0,1], ytreino)\n",
    "weighting"
   ]
  },
  {
   "cell_type": "markdown",
   "id": "8d04aa4d",
   "metadata": {},
   "source": [
    "### GridSearch"
   ]
  },
  {
   "cell_type": "code",
   "execution_count": 79,
   "id": "5a3043d3",
   "metadata": {},
   "outputs": [],
   "source": [
    "LR = LogisticRegression()\n",
    "RF = RandomForestClassifier()\n",
    "DT = DecisionTreeClassifier()\n",
    "SGD = SGDClassifier()\n",
    "from sklearn.svm import SVC\n",
    "SVC = SVC()\n",
    "from sklearn.neural_network import MLPClassifier\n",
    "MLP = MLPClassifier()\n",
    "\n",
    "np.random.seed(42)\n",
    "cv = RepeatedStratifiedKFold(n_splits=5, n_repeats=3, random_state=1)"
   ]
  },
  {
   "cell_type": "code",
   "execution_count": 80,
   "id": "16174fa9",
   "metadata": {},
   "outputs": [],
   "source": [
    "pipe = Pipeline(steps=[('estimador', RF)])"
   ]
  },
  {
   "cell_type": "code",
   "execution_count": 81,
   "id": "6eef3760",
   "metadata": {},
   "outputs": [],
   "source": [
    "params_grid = [\n",
    "    {\n",
    "        'estimador': [LR],\n",
    "        'estimador__C':[0.05,0.5,0.99],\n",
    "        'estimador__class_weight':['balanced'],\n",
    "        'estimador__solver':['liblinear','saga'],\n",
    "        'estimador__penalty':['l1','l2']\n",
    "    },\n",
    "    {\n",
    "        'estimador': [RF],\n",
    "        'estimador__n_estimators': [1,10,100],\n",
    "        'estimador__max_depth':[3,6,9],\n",
    "        'estimador__max_leaf_nodes':[1,2,3,4,5],\n",
    "        'estimador__criterion':['gini', 'entropy'],\n",
    "        'estimador__class_weight' : ['balanced']\n",
    "    },\n",
    "    {\n",
    "        'estimador': [DT],\n",
    "        'estimador__max_depth': [3,6,9],\n",
    "        'estimador__class_weight' : ['balanced'],\n",
    "        'estimador__max_leaf_nodes':[1,2,3,4,5],\n",
    "        'estimador__criterion':['gini', 'entropy']\n",
    "    }\n",
    "    \n",
    "]"
   ]
  },
  {
   "cell_type": "code",
   "execution_count": 82,
   "id": "8a670f82",
   "metadata": {},
   "outputs": [
    {
     "name": "stdout",
     "output_type": "stream",
     "text": [
      "Fitting 15 folds for each of 132 candidates, totalling 1980 fits\n"
     ]
    }
   ],
   "source": [
    "grid = GridSearchCV(pipe, params_grid, cv=cv, scoring='roc_auc', verbose=1, n_jobs=-1)\n",
    "g = grid.fit(Xtreino, ytreino)"
   ]
  },
  {
   "cell_type": "code",
   "execution_count": 83,
   "id": "af58800d",
   "metadata": {},
   "outputs": [
    {
     "data": {
      "text/plain": [
       "(Pipeline(steps=[('estimador',\n",
       "                  LogisticRegression(C=0.05, class_weight='balanced',\n",
       "                                     penalty='l1', solver='liblinear'))]),\n",
       " 0.9999893293638843)"
      ]
     },
     "execution_count": 83,
     "metadata": {},
     "output_type": "execute_result"
    }
   ],
   "source": [
    "g.best_estimator_, g.best_score_"
   ]
  },
  {
   "cell_type": "code",
   "execution_count": 84,
   "id": "f2caadac",
   "metadata": {},
   "outputs": [
    {
     "data": {
      "text/plain": [
       "0    5358\n",
       "1     254\n",
       "dtype: int64"
      ]
     },
     "execution_count": 84,
     "metadata": {},
     "output_type": "execute_result"
    }
   ],
   "source": [
    "lista_pred = pd.Series(list(g.predict(X_teste)))\n",
    "lista_pred.value_counts()"
   ]
  },
  {
   "cell_type": "code",
   "execution_count": 85,
   "id": "70ae29bc",
   "metadata": {},
   "outputs": [
    {
     "data": {
      "text/plain": [
       "0    5360\n",
       "1     252\n",
       "Name: Status, dtype: int64"
      ]
     },
     "execution_count": 85,
     "metadata": {},
     "output_type": "execute_result"
    }
   ],
   "source": [
    "y_teste.value_counts()"
   ]
  },
  {
   "cell_type": "code",
   "execution_count": 76,
   "id": "8e9f627f",
   "metadata": {},
   "outputs": [
    {
     "name": "stdout",
     "output_type": "stream",
     "text": [
      "Fitting 5 folds for each of 3 candidates, totalling 15 fits\n",
      "Melhor pontuação:  0.9998708249630761\n",
      "Melhores parâmetros:  {'C': 0.1, 'class_weight': 'balanced', 'penalty': 'l1', 'solver': 'liblinear'}\n"
     ]
    }
   ],
   "source": [
    "penalty = ['l1']\n",
    "C = [0.01,0.5,0.99]\n",
    "class_weight = ['balanced']\n",
    "solver = ['liblinear']\n",
    "estimador = LR\n",
    "\n",
    "param_grid = dict(penalty=penalty, C=C, class_weight=class_weight, solver=solver)\n",
    "\n",
    "grid = GridSearchCV(estimator=estimador, param_grid=param_grid, scoring='roc_auc', verbose=1, n_jobs=-1)\n",
    "grid_result = grid.fit(Xtreino, ytreino)\n",
    "\n",
    "print('Melhor pontuação: ', grid_result.best_score_)\n",
    "print('Melhores parâmetros: ', grid_result.best_params_)"
   ]
  },
  {
   "cell_type": "markdown",
   "id": "e2d1ff14",
   "metadata": {},
   "source": [
    "### CrossVal "
   ]
  },
  {
   "cell_type": "code",
   "execution_count": 51,
   "id": "3d12fa54",
   "metadata": {},
   "outputs": [
    {
     "name": "stdout",
     "output_type": "stream",
     "text": [
      "\n",
      " [0.99999108 0.99999978 0.99999397 0.99999888 0.99999911 0.99999621\n",
      " 0.99999352 0.99999844 1.         0.99994126]\n",
      "\n",
      " [0.99999978 1.         0.99999955 0.99999531 0.99999978 0.99999855\n",
      " 0.99999955 0.99999911 1.         0.99999665]\n",
      "\n",
      " [0.9999369  0.99911504 0.99911504 0.99911504 0.99987382 0.99899041\n",
      " 0.99905195 0.99993691 1.         0.99557522]\n"
     ]
    }
   ],
   "source": [
    "np.random.seed(42)\n",
    "cv = RepeatedStratifiedKFold(n_splits=5, n_repeats=2, random_state=1)\n",
    "\n",
    "# CROSS VALIDATION\n",
    "LR = LogisticRegression(solver='liblinear', penalty='l1', C=0.99, class_weight='balanced').fit(Xtreino, ytreino)\n",
    "resultadoslr = cross_val_score(LR, Xtreino, ytreino, cv=cv, scoring='roc_auc', n_jobs=-1)\n",
    "print('\\n',resultadoslr)\n",
    "print(LR.score(Xteste, yteste))\n",
    "#yprob = LR.predict_proba(X_teste)\n",
    "#print(yprob)\n",
    "\n",
    "RF = RandomForestClassifier(n_estimators=100, class_weight='balanced').fit(Xtreino, ytreino)\n",
    "resultadosrf = cross_val_score(RF, Xtreino, ytreino, cv=cv, scoring='roc_auc')\n",
    "print('\\n',resultadosrf)\n",
    "#print(RF.score(Xteste, yteste))\n",
    "#yprob2 = RF.predict_proba(X_teste)\n",
    "#print(yprob2)\n",
    "\n",
    "DT = DecisionTreeClassifier(max_depth=10, class_weight='balanced').fit(Xtreino, ytreino)\n",
    "resultadosdt = cross_val_score(DT, Xtreino, ytreino, cv=cv, scoring='roc_auc')\n",
    "print('\\n',resultadosdt)\n",
    "#yhat = DT.predict(Xteste)\n",
    "#print(DT.score(Xteste, yteste))\n",
    "#yprob3 = DT.predict_proba(X_teste)\n",
    "#print(yprob3)\n",
    "\n",
    "#SGD = SGDClassifier(random_state=42).fit(X_treino, y_treino)\n",
    "#resultados = cross_val_score(SGD, Xtreino, ytreino, cv=cv, scoring='accuracy')\n",
    "\n",
    "\n",
    "#print('Acurácia ROC %.3f' % mean(resultados))'"
   ]
  },
  {
   "cell_type": "code",
   "execution_count": 77,
   "id": "e1c1af2c",
   "metadata": {},
   "outputs": [
    {
     "name": "stderr",
     "output_type": "stream",
     "text": [
      "[Parallel(n_jobs=-1)]: Using backend LokyBackend with 4 concurrent workers.\n"
     ]
    },
    {
     "name": "stdout",
     "output_type": "stream",
     "text": [
      "\n",
      " [0.9991755  1.         0.99941107 0.99976443 0.99952886 0.99941107\n",
      " 0.99976443 0.99952886 0.99988221 0.99929329]\n"
     ]
    },
    {
     "name": "stderr",
     "output_type": "stream",
     "text": [
      "[Parallel(n_jobs=-1)]: Done  10 out of  10 | elapsed:    2.0s finished\n"
     ]
    }
   ],
   "source": [
    "np.random.seed(42)\n",
    "cv = RepeatedStratifiedKFold(n_splits=5, n_repeats=2, random_state=1)\n",
    "\n",
    "# CROSS VALIDATION\n",
    "LR = LogisticRegression().fit(Xtreino, ytreino)\n",
    "resultadoslr = cross_val_score(LR, Xtreino, ytreino, cv=cv, n_jobs=-1, verbose=True)\n",
    "print('\\n',resultadoslr)\n",
    "#print(LR.score(Xteste, yteste))\n",
    "#yprob = LR.predict_proba(X_teste)\n",
    "#print(yprob)"
   ]
  },
  {
   "cell_type": "code",
   "execution_count": 29,
   "id": "9c28f666",
   "metadata": {},
   "outputs": [],
   "source": [
    "from scipy.special import expit"
   ]
  },
  {
   "cell_type": "code",
   "execution_count": 304,
   "id": "c1ef8e75",
   "metadata": {},
   "outputs": [],
   "source": [
    "LogisticRegression?"
   ]
  },
  {
   "cell_type": "code",
   "execution_count": 572,
   "id": "096d105e",
   "metadata": {},
   "outputs": [],
   "source": [
    "LR = LogisticRegression(solver='liblinear', penalty='l1', C=0.0001, tol=0.001, class_weight='balanced').fit(Xtreino, ytreino)\n",
    "#RF = RandomForestClassifier(n_estimators=100, class_weight='balanced').fit(Xtreino, ytreino)\n",
    "#DT = DecisionTreeClassifier(max_depth=10, class_weight='balanced').fit(Xtreino, ytreino)"
   ]
  },
  {
   "cell_type": "code",
   "execution_count": 573,
   "id": "4ba98078",
   "metadata": {},
   "outputs": [
    {
     "name": "stdout",
     "output_type": "stream",
     "text": [
      "JACCARD 1 = 0.8636363636363636, JACCARD 0 = 0.992730661696179 e score = 0.9837691401648999\n"
     ]
    }
   ],
   "source": [
    "yhat = LR.predict(Xteste)\n",
    "jac1 =jaccard_score(yteste, yhat, pos_label=1)\n",
    "jac0 =jaccard_score(yteste, yhat, pos_label=0)\n",
    "scr = LR.score(Xtreino, ytreino)\n",
    "\n",
    "print(f'JACCARD 1 = {jac1}, JACCARD 0 = {jac0} e score = {scr}')"
   ]
  },
  {
   "cell_type": "code",
   "execution_count": 533,
   "id": "f58ed298",
   "metadata": {},
   "outputs": [],
   "source": [
    "#roc_curve?\n",
    "LR.predict_proba?"
   ]
  },
  {
   "cell_type": "code",
   "execution_count": 488,
   "id": "64960d62",
   "metadata": {},
   "outputs": [
    {
     "data": {
      "text/plain": [
       "array([0, 0, 0, ..., 0, 0, 0], dtype=int64)"
      ]
     },
     "execution_count": 488,
     "metadata": {},
     "output_type": "execute_result"
    }
   ],
   "source": [
    "yteste"
   ]
  },
  {
   "cell_type": "code",
   "execution_count": 598,
   "id": "e6eb28f8",
   "metadata": {},
   "outputs": [],
   "source": [
    "y_pred_proba = LR.predict_proba(Xteste)[:, 1]\n",
    "fpr, tpr, _ = roc_curve(yteste,  y_pred_proba, pos_label=1)\n",
    "ctf = 0.5\n",
    "ys= list(yteste)\n",
    "ps = list(np.round([1 if y >= ctf else 0 for y in y_pred_proba], 5))\n",
    "pred = list(np.round(y_pred_proba, 5))\n",
    "falsos = list(np.round(fpr,3))\n",
    "verds = list(np.round(tpr, 10))\n",
    "cuts = list(np.round(_, 10))\n",
    "data = list(zip(ys, ps,pred, falsos, verds,_))\n",
    "\n",
    "dff = pd.DataFrame(data, columns=['Real','Previsto','Proba','Falsos Positivos', 'Verdadeiros Positivos', 'Cutoffs'])"
   ]
  },
  {
   "cell_type": "code",
   "execution_count": 632,
   "id": "0caa2d7d",
   "metadata": {},
   "outputs": [
    {
     "data": {
      "text/plain": [
       "0.949928724162509"
      ]
     },
     "execution_count": 632,
     "metadata": {},
     "output_type": "execute_result"
    }
   ],
   "source": [
    "x, y = np.unique([1 if y >= ctf else 0 for y in y_pred_proba], return_counts=True)\n",
    "np.asarray((x,y)).T\n",
    "\n",
    "y[0]/5612"
   ]
  },
  {
   "cell_type": "code",
   "execution_count": 621,
   "id": "9b767fe4",
   "metadata": {},
   "outputs": [
    {
     "data": {
      "text/plain": [
       "array([[   0, 5360],\n",
       "       [   1,  252]], dtype=int64)"
      ]
     },
     "execution_count": 621,
     "metadata": {},
     "output_type": "execute_result"
    }
   ],
   "source": [
    "x, y = np.unique(yteste, return_counts=True)\n",
    "np.asarray((x,y)).T"
   ]
  },
  {
   "cell_type": "code",
   "execution_count": 623,
   "id": "9e04137a",
   "metadata": {},
   "outputs": [
    {
     "data": {
      "text/html": [
       "<div>\n",
       "<style scoped>\n",
       "    .dataframe tbody tr th:only-of-type {\n",
       "        vertical-align: middle;\n",
       "    }\n",
       "\n",
       "    .dataframe tbody tr th {\n",
       "        vertical-align: top;\n",
       "    }\n",
       "\n",
       "    .dataframe thead th {\n",
       "        text-align: right;\n",
       "    }\n",
       "</style>\n",
       "<table border=\"1\" class=\"dataframe\">\n",
       "  <thead>\n",
       "    <tr style=\"text-align: right;\">\n",
       "      <th></th>\n",
       "      <th>Real</th>\n",
       "      <th>Previsto</th>\n",
       "      <th>Proba</th>\n",
       "      <th>Falsos Positivos</th>\n",
       "      <th>Verdadeiros Positivos</th>\n",
       "      <th>Cutoffs</th>\n",
       "    </tr>\n",
       "  </thead>\n",
       "  <tbody>\n",
       "    <tr>\n",
       "      <th>229</th>\n",
       "      <td>1</td>\n",
       "      <td>0</td>\n",
       "      <td>0.05969</td>\n",
       "      <td>0.113</td>\n",
       "      <td>1.0</td>\n",
       "      <td>2.006348e-02</td>\n",
       "    </tr>\n",
       "    <tr>\n",
       "      <th>460</th>\n",
       "      <td>1</td>\n",
       "      <td>0</td>\n",
       "      <td>0.27781</td>\n",
       "      <td>0.257</td>\n",
       "      <td>1.0</td>\n",
       "      <td>5.256171e-04</td>\n",
       "    </tr>\n",
       "    <tr>\n",
       "      <th>763</th>\n",
       "      <td>0</td>\n",
       "      <td>1</td>\n",
       "      <td>0.95860</td>\n",
       "      <td>0.453</td>\n",
       "      <td>1.0</td>\n",
       "      <td>3.012433e-06</td>\n",
       "    </tr>\n",
       "    <tr>\n",
       "      <th>795</th>\n",
       "      <td>0</td>\n",
       "      <td>1</td>\n",
       "      <td>0.59617</td>\n",
       "      <td>0.473</td>\n",
       "      <td>1.0</td>\n",
       "      <td>1.536608e-06</td>\n",
       "    </tr>\n",
       "    <tr>\n",
       "      <th>796</th>\n",
       "      <td>0</td>\n",
       "      <td>1</td>\n",
       "      <td>0.59122</td>\n",
       "      <td>0.474</td>\n",
       "      <td>1.0</td>\n",
       "      <td>1.490411e-06</td>\n",
       "    </tr>\n",
       "    <tr>\n",
       "      <th>797</th>\n",
       "      <td>0</td>\n",
       "      <td>1</td>\n",
       "      <td>0.59617</td>\n",
       "      <td>0.474</td>\n",
       "      <td>1.0</td>\n",
       "      <td>1.481286e-06</td>\n",
       "    </tr>\n",
       "    <tr>\n",
       "      <th>798</th>\n",
       "      <td>0</td>\n",
       "      <td>1</td>\n",
       "      <td>0.59617</td>\n",
       "      <td>0.474</td>\n",
       "      <td>1.0</td>\n",
       "      <td>1.460098e-06</td>\n",
       "    </tr>\n",
       "    <tr>\n",
       "      <th>799</th>\n",
       "      <td>0</td>\n",
       "      <td>1</td>\n",
       "      <td>0.59122</td>\n",
       "      <td>0.475</td>\n",
       "      <td>1.0</td>\n",
       "      <td>1.429007e-06</td>\n",
       "    </tr>\n",
       "    <tr>\n",
       "      <th>805</th>\n",
       "      <td>0</td>\n",
       "      <td>1</td>\n",
       "      <td>0.59122</td>\n",
       "      <td>0.479</td>\n",
       "      <td>1.0</td>\n",
       "      <td>1.289936e-06</td>\n",
       "    </tr>\n",
       "    <tr>\n",
       "      <th>807</th>\n",
       "      <td>0</td>\n",
       "      <td>1</td>\n",
       "      <td>0.51368</td>\n",
       "      <td>0.481</td>\n",
       "      <td>1.0</td>\n",
       "      <td>1.237999e-06</td>\n",
       "    </tr>\n",
       "    <tr>\n",
       "      <th>808</th>\n",
       "      <td>0</td>\n",
       "      <td>1</td>\n",
       "      <td>0.66816</td>\n",
       "      <td>0.481</td>\n",
       "      <td>1.0</td>\n",
       "      <td>1.219561e-06</td>\n",
       "    </tr>\n",
       "    <tr>\n",
       "      <th>809</th>\n",
       "      <td>0</td>\n",
       "      <td>1</td>\n",
       "      <td>0.66358</td>\n",
       "      <td>0.481</td>\n",
       "      <td>1.0</td>\n",
       "      <td>1.218980e-06</td>\n",
       "    </tr>\n",
       "    <tr>\n",
       "      <th>811</th>\n",
       "      <td>0</td>\n",
       "      <td>1</td>\n",
       "      <td>0.67436</td>\n",
       "      <td>0.483</td>\n",
       "      <td>1.0</td>\n",
       "      <td>1.169899e-06</td>\n",
       "    </tr>\n",
       "    <tr>\n",
       "      <th>812</th>\n",
       "      <td>0</td>\n",
       "      <td>1</td>\n",
       "      <td>0.65435</td>\n",
       "      <td>0.484</td>\n",
       "      <td>1.0</td>\n",
       "      <td>1.138012e-06</td>\n",
       "    </tr>\n",
       "    <tr>\n",
       "      <th>813</th>\n",
       "      <td>0</td>\n",
       "      <td>1</td>\n",
       "      <td>0.65435</td>\n",
       "      <td>0.484</td>\n",
       "      <td>1.0</td>\n",
       "      <td>1.135435e-06</td>\n",
       "    </tr>\n",
       "    <tr>\n",
       "      <th>894</th>\n",
       "      <td>0</td>\n",
       "      <td>1</td>\n",
       "      <td>0.98092</td>\n",
       "      <td>0.536</td>\n",
       "      <td>1.0</td>\n",
       "      <td>3.388653e-07</td>\n",
       "    </tr>\n",
       "    <tr>\n",
       "      <th>1261</th>\n",
       "      <td>0</td>\n",
       "      <td>1</td>\n",
       "      <td>0.97927</td>\n",
       "      <td>0.783</td>\n",
       "      <td>1.0</td>\n",
       "      <td>2.003113e-09</td>\n",
       "    </tr>\n",
       "    <tr>\n",
       "      <th>1262</th>\n",
       "      <td>0</td>\n",
       "      <td>1</td>\n",
       "      <td>0.93073</td>\n",
       "      <td>0.783</td>\n",
       "      <td>1.0</td>\n",
       "      <td>1.987083e-09</td>\n",
       "    </tr>\n",
       "    <tr>\n",
       "      <th>1263</th>\n",
       "      <td>0</td>\n",
       "      <td>1</td>\n",
       "      <td>0.83033</td>\n",
       "      <td>0.785</td>\n",
       "      <td>1.0</td>\n",
       "      <td>1.854210e-09</td>\n",
       "    </tr>\n",
       "    <tr>\n",
       "      <th>1264</th>\n",
       "      <td>1</td>\n",
       "      <td>0</td>\n",
       "      <td>0.21542</td>\n",
       "      <td>0.785</td>\n",
       "      <td>1.0</td>\n",
       "      <td>1.848174e-09</td>\n",
       "    </tr>\n",
       "  </tbody>\n",
       "</table>\n",
       "</div>"
      ],
      "text/plain": [
       "      Real  Previsto    Proba  Falsos Positivos  Verdadeiros Positivos  \\\n",
       "229      1         0  0.05969             0.113                    1.0   \n",
       "460      1         0  0.27781             0.257                    1.0   \n",
       "763      0         1  0.95860             0.453                    1.0   \n",
       "795      0         1  0.59617             0.473                    1.0   \n",
       "796      0         1  0.59122             0.474                    1.0   \n",
       "797      0         1  0.59617             0.474                    1.0   \n",
       "798      0         1  0.59617             0.474                    1.0   \n",
       "799      0         1  0.59122             0.475                    1.0   \n",
       "805      0         1  0.59122             0.479                    1.0   \n",
       "807      0         1  0.51368             0.481                    1.0   \n",
       "808      0         1  0.66816             0.481                    1.0   \n",
       "809      0         1  0.66358             0.481                    1.0   \n",
       "811      0         1  0.67436             0.483                    1.0   \n",
       "812      0         1  0.65435             0.484                    1.0   \n",
       "813      0         1  0.65435             0.484                    1.0   \n",
       "894      0         1  0.98092             0.536                    1.0   \n",
       "1261     0         1  0.97927             0.783                    1.0   \n",
       "1262     0         1  0.93073             0.783                    1.0   \n",
       "1263     0         1  0.83033             0.785                    1.0   \n",
       "1264     1         0  0.21542             0.785                    1.0   \n",
       "\n",
       "           Cutoffs  \n",
       "229   2.006348e-02  \n",
       "460   5.256171e-04  \n",
       "763   3.012433e-06  \n",
       "795   1.536608e-06  \n",
       "796   1.490411e-06  \n",
       "797   1.481286e-06  \n",
       "798   1.460098e-06  \n",
       "799   1.429007e-06  \n",
       "805   1.289936e-06  \n",
       "807   1.237999e-06  \n",
       "808   1.219561e-06  \n",
       "809   1.218980e-06  \n",
       "811   1.169899e-06  \n",
       "812   1.138012e-06  \n",
       "813   1.135435e-06  \n",
       "894   3.388653e-07  \n",
       "1261  2.003113e-09  \n",
       "1262  1.987083e-09  \n",
       "1263  1.854210e-09  \n",
       "1264  1.848174e-09  "
      ]
     },
     "execution_count": 623,
     "metadata": {},
     "output_type": "execute_result"
    }
   ],
   "source": [
    "#dff[(dff['Real'] == 0) & (dff['Predicao'] >= 0.5)]\n",
    "dff[(dff['Real'] != dff['Previsto'])]"
   ]
  },
  {
   "cell_type": "code",
   "execution_count": 578,
   "id": "fa601764",
   "metadata": {},
   "outputs": [
    {
     "data": {
      "image/png": "[encoded data removed]",
      "text/plain": [
       "<Figure size 432x288 with 1 Axes>"
      ]
     },
     "metadata": {
      "needs_background": "light"
     },
     "output_type": "display_data"
    }
   ],
   "source": [
    "y_pred_proba = LR.predict_proba(Xteste)[::,1]\n",
    "fpr, tpr, _ = roc_curve(yteste,  y_pred_proba, pos_label=1)\n",
    "auc = roc_auc_score(yteste, y_pred_proba)\n",
    "plt.plot(fpr,tpr,label=\"data 1, auc=\"+str(auc))\n",
    "plt.plot([0, 1], [0, 1], color='navy', lw=1, linestyle='--')\n",
    "plt.xlabel('Falsos Positivo')\n",
    "plt.ylabel('Verdadeiros Positivo')\n",
    "plt.title('ROC')\n",
    "plt.legend(loc=\"best\")\n",
    "plt.show()"
   ]
  },
  {
   "cell_type": "code",
   "execution_count": 567,
   "id": "74160a4d",
   "metadata": {},
   "outputs": [
    {
     "name": "stdout",
     "output_type": "stream",
     "text": [
      "Matriz de Confusão, sem normalização\n",
      "[[ 247    5]\n",
      " [  34 5326]]\n"
     ]
    },
    {
     "data": {
      "image/png": "[encoded data removed]",
      "text/plain": [
       "<Figure size 1152x504 with 1 Axes>"
      ]
     },
     "metadata": {
      "needs_background": "light"
     },
     "output_type": "display_data"
    },
    {
     "data": {
      "image/png": "[encoded data removed]",
      "text/plain": [
       "<Figure size 432x288 with 2 Axes>"
      ]
     },
     "metadata": {
      "needs_background": "light"
     },
     "output_type": "display_data"
    }
   ],
   "source": [
    "def cutoff_confusion_matrix(estimador, xteste, yteste, cutoff=.5):\n",
    "    fig, ax = plt.subplots(figsize=(16,7))\n",
    "    \n",
    "    y_scores = estimador.predict_proba(xteste)[:, 1]\n",
    "    ttt = np.unique(np.round(y_scores, 3))\n",
    "    \n",
    "    p, r, t = precision_recall_curve(yteste, y_scores)\n",
    "    y_pred_adj = [1 if y >= cutoff else 0 for y in y_scores]\n",
    "    y_pred_adj2 = [1 if y >= cutoff else 0 for y in ttt]\n",
    "    cnf_mtx_cutoff = confusion_matrix(yteste, y_pred_adj, labels=[1,0])\n",
    "  \n",
    "    plt.figure(frameon=True, edgecolor='gray')\n",
    "    dd = pd.DataFrame(y_pred_adj2)\n",
    "    de = pd.DataFrame([x for x in range(len(ttt))])\n",
    "    \n",
    "    ax.scatter(de, dd, linewidths=8, color='blue', marker='.', alpha=0.2, label='0 ou 1')\n",
    "    ax.plot(ttt, '--', linewidth=1.5, color='red', label='scores')\n",
    "    ax.plot([cutoff]*len(ttt),'--', color='green', linewidth=0.8, label='cutoff')\n",
    "    \n",
    "    ax.grid(alpha=0.8, ds='steps-mid', linestyle=':')\n",
    "    ax.legend(loc='best')\n",
    "    \n",
    "    plot_confusion_matrix(cnf_mtx_cutoff,classes=['falha = 1','não falha = 0'], normalize= False,  title='Matriz de Confusão - cutoff %s' %cutoff)\n",
    "    #return cnf_mtx_cutoff, cutoff\n",
    "\n",
    "cutoff_confusion_matrix(LR,Xteste, yteste, cutoff=.5)"
   ]
  },
  {
   "cell_type": "code",
   "execution_count": 101,
   "id": "b0853107",
   "metadata": {},
   "outputs": [
    {
     "name": "stdout",
     "output_type": "stream",
     "text": [
      "Matriz de Confusão, sem normalização\n",
      "[[ 252    0]\n",
      " [   0 5360]]\n"
     ]
    },
    {
     "data": {
      "image/png": "[encoded data removed]",
      "text/plain": [
       "<Figure size 1152x504 with 1 Axes>"
      ]
     },
     "metadata": {
      "needs_background": "light"
     },
     "output_type": "display_data"
    },
    {
     "data": {
      "image/png": "[encoded data removed]",
      "text/plain": [
       "<Figure size 432x288 with 2 Axes>"
      ]
     },
     "metadata": {
      "needs_background": "light"
     },
     "output_type": "display_data"
    }
   ],
   "source": [
    "def cutoff_confusion_matrix(estimador, xteste, yteste, cutoff=.5):\n",
    "    fig, ax = plt.subplots(figsize=(16,7))\n",
    "    \n",
    "    y_scores = estimador.predict_proba(xteste)[:, 1]\n",
    "    p, r, t = precision_recall_curve(yteste, y_scores)\n",
    "    y_pred_adj = [1 if y >= cutoff else 0 for y in y_scores]\n",
    "    cnf_mtx_cutoff = confusion_matrix(yteste, y_pred_adj, labels=[1,0])\n",
    "    \n",
    "    plt.figure(frameon=True, edgecolor='gray')\n",
    "    dd = pd.DataFrame(y_scores)\n",
    "    de = pd.DataFrame([x for x in range(len(yteste))])\n",
    "    ax.scatter(de, dd, linewidths=8, color='blue', marker='.', alpha=0.2)\n",
    "    ax.plot(t, '--', linewidth=1.5, color='red')\n",
    "    ax.grid(alpha=0.8, ds='steps-mid', linestyle=':')\n",
    "    \n",
    "    plot_confusion_matrix(cnf_mtx_cutoff,classes=['falha = 1','não falha = 0'], normalize= False,  title='Matriz de Confusão - cutoff %s' %cutoff)\n",
    "    #return cnf_mtx_cutoff, cutoff\n",
    "\n",
    "cutoff_confusion_matrix(DT,X_teste, y_teste, cutoff=.5)"
   ]
  },
  {
   "cell_type": "code",
   "execution_count": 37,
   "id": "64fd1a6d",
   "metadata": {},
   "outputs": [],
   "source": [
    "import seaborn as sns\n",
    "import math"
   ]
  },
  {
   "cell_type": "code",
   "execution_count": 102,
   "id": "c740a460",
   "metadata": {},
   "outputs": [
    {
     "name": "stdout",
     "output_type": "stream",
     "text": [
      "Matriz de Confusão, sem normalização\n",
      "[[ 252    0]\n",
      " [   1 5359]]\n"
     ]
    },
    {
     "data": {
      "image/png": "[encoded data removed]",
      "text/plain": [
       "<Figure size 1152x504 with 1 Axes>"
      ]
     },
     "metadata": {
      "needs_background": "light"
     },
     "output_type": "display_data"
    },
    {
     "data": {
      "image/png": "[encoded data removed]",
      "text/plain": [
       "<Figure size 432x288 with 2 Axes>"
      ]
     },
     "metadata": {
      "needs_background": "light"
     },
     "output_type": "display_data"
    }
   ],
   "source": [
    "def cutoff_confusion_matrix(estimador, xteste, yteste, cutoff=.5):\n",
    "    fig, ax = plt.subplots(figsize=(16,7))\n",
    "    \n",
    "    y_scores = estimador.predict_proba(xteste)[:, 1]\n",
    "    p, r, thresholds = precision_recall_curve(yteste, y_scores)\n",
    "    y_pred_adj = [1 if y >= cutoff else 0 for y in y_scores]\n",
    "    cnf_mtx_cutoff = confusion_matrix(yteste, y_pred_adj, labels=[1,0])\n",
    "    \n",
    "    plt.figure(frameon=True, edgecolor='gray')\n",
    "    dd = pd.DataFrame(y_pred_adj)\n",
    "    de = pd.DataFrame([x for x in range(len(yteste))])\n",
    "    dt = pd.DataFrame(y_pred_adj)\n",
    "    ax.scatter(de, dd, linewidths=0.85, color='blue', marker='.')\n",
    "    ax.plot(thresholds, ':', linewidth=2.5, color='red')\n",
    "    ax.grid(alpha=0.8, ds='steps-mid', linestyle=':')\n",
    "\n",
    "    \n",
    "    plot_confusion_matrix(cnf_mtx_cutoff,classes=['falha = 1','não falha = 0'], normalize= False,  title='Matriz de Confusão - cutoff %s' %cutoff)\n",
    "    #return cnf_mtx_cutoff, cutoff\n",
    "\n",
    "cutoff_confusion_matrix(RF,X_teste, y_teste, cutoff=.5)"
   ]
  },
  {
   "cell_type": "code",
   "execution_count": 303,
   "id": "0d72386b",
   "metadata": {},
   "outputs": [],
   "source": [
    "from sklearn.metrics import classification_report, confusion_matrix\n",
    "import itertools\n",
    "def plot_confusion_matrix(cm, classes,\n",
    "                          normalize=False,\n",
    "                          title='Matriz de Confusão',\n",
    "                          cmap=plt.cm.Blues):\n",
    "    \"\"\"\n",
    "    This function prints and plots the confusion matrix.\n",
    "    Normalization can be applied by setting `normalize=True`.\n",
    "    \"\"\"\n",
    "    if normalize:\n",
    "        cm = cm.astype('float') / cm.sum(axis=1)[:, np.newaxis]\n",
    "        print(\"Normalizada Matriz de Confusão\")\n",
    "    else:\n",
    "        print('Matriz de Confusão, sem normalização')\n",
    "\n",
    "    print(cm)\n",
    "\n",
    "    plt.imshow(cm, interpolation='nearest', cmap=cmap)\n",
    "    plt.title(title)\n",
    "    plt.colorbar()\n",
    "    tick_marks = np.arange(len(classes))\n",
    "    plt.xticks(tick_marks, classes, rotation=45)\n",
    "    plt.yticks(tick_marks, classes)\n",
    "\n",
    "    fmt = '.2f' if normalize else 'd'\n",
    "    thresh = cm.max() / 2.\n",
    "    for i, j in itertools.product(range(cm.shape[0]), range(cm.shape[1])):\n",
    "        plt.text(j, i, format(cm[i, j], fmt),\n",
    "                 horizontalalignment=\"center\",\n",
    "                 color=\"white\" if cm[i, j] > thresh else \"black\")\n",
    "    \n",
    "    \n",
    "    plt.tight_layout()\n",
    "    plt.ylabel('Real label')\n",
    "    plt.xlabel('Predição label')"
   ]
  },
  {
   "cell_type": "code",
   "execution_count": null,
   "id": "5d262c4d",
   "metadata": {},
   "outputs": [],
   "source": []
  },
  {
   "cell_type": "code",
   "execution_count": null,
   "id": "1ee48abe",
   "metadata": {},
   "outputs": [],
   "source": []
  },
  {
   "cell_type": "code",
   "execution_count": 245,
   "id": "d97df6de",
   "metadata": {},
   "outputs": [],
   "source": [
    "LogisticRegression?"
   ]
  },
  {
   "cell_type": "code",
   "execution_count": 296,
   "id": "4e2ff57b",
   "metadata": {},
   "outputs": [],
   "source": [
    "LR = LogisticRegression(solver='liblinear', \n",
    "                        penalty='l1', \n",
    "                        C=0.1, tol=0.0000001, \n",
    "                        class_weight='balanced', \n",
    "                        random_state=0).fit(Xtreino, ytreino)"
   ]
  },
  {
   "cell_type": "code",
   "execution_count": 297,
   "id": "324f5e93",
   "metadata": {},
   "outputs": [
    {
     "data": {
      "text/plain": [
       "0.9989870435806831"
      ]
     },
     "execution_count": 297,
     "metadata": {},
     "output_type": "execute_result"
    }
   ],
   "source": [
    "LR.score(Xtreino, ytreino)"
   ]
  },
  {
   "cell_type": "code",
   "execution_count": 298,
   "id": "715bc801",
   "metadata": {},
   "outputs": [
    {
     "data": {
      "text/plain": [
       "0.9921259842519685"
      ]
     },
     "execution_count": 298,
     "metadata": {},
     "output_type": "execute_result"
    }
   ],
   "source": [
    "yhat = LR.predict(X_teste)\n",
    "jaccard_score(y_teste, yhat, pos_label=1)"
   ]
  },
  {
   "cell_type": "code",
   "execution_count": 302,
   "id": "6a730349",
   "metadata": {},
   "outputs": [
    {
     "data": {
      "text/plain": [
       "[<matplotlib.lines.Line2D at 0x26e04ff7d00>,\n",
       " <matplotlib.lines.Line2D at 0x26e04ff7e20>,\n",
       " <matplotlib.lines.Line2D at 0x26e04ff7f40>,\n",
       " <matplotlib.lines.Line2D at 0x26e050030a0>,\n",
       " <matplotlib.lines.Line2D at 0x26e050031c0>,\n",
       " <matplotlib.lines.Line2D at 0x26e050032e0>,\n",
       " <matplotlib.lines.Line2D at 0x26e05003400>,\n",
       " <matplotlib.lines.Line2D at 0x26e05003520>,\n",
       " <matplotlib.lines.Line2D at 0x26e05003640>,\n",
       " <matplotlib.lines.Line2D at 0x26e05003760>,\n",
       " <matplotlib.lines.Line2D at 0x26e05003880>,\n",
       " <matplotlib.lines.Line2D at 0x26e050039a0>,\n",
       " <matplotlib.lines.Line2D at 0x26e05003ac0>,\n",
       " <matplotlib.lines.Line2D at 0x26e05003be0>]"
      ]
     },
     "execution_count": 302,
     "metadata": {},
     "output_type": "execute_result"
    },
    {
     "data": {
      "image/png": "[encoded data removed]",
      "text/plain": [
       "<Figure size 432x288 with 1 Axes>"
      ]
     },
     "metadata": {
      "needs_background": "light"
     },
     "output_type": "display_data"
    }
   ],
   "source": [
    "#X_new = np.linspace(0,14,5612).reshape(-1,1)\n",
    "y_proba = LR.predict_proba(Xteste)\n",
    "plt.plot(Xteste, y_proba[:,1], \"g-\", label='Falha')\n",
    "plt.plot(Xteste, y_proba[:,0], \"b--\", label='Não falha')"
   ]
  },
  {
   "cell_type": "code",
   "execution_count": 174,
   "id": "d9c1a929",
   "metadata": {},
   "outputs": [
    {
     "data": {
      "text/plain": [
       "5612"
      ]
     },
     "execution_count": 174,
     "metadata": {},
     "output_type": "execute_result"
    }
   ],
   "source": [
    "len(np.random.rand(5612,1))"
   ]
  },
  {
   "cell_type": "code",
   "execution_count": 179,
   "id": "c8e5e895",
   "metadata": {},
   "outputs": [
    {
     "data": {
      "text/plain": [
       "[<matplotlib.lines.Line2D at 0x26e04ec7160>]"
      ]
     },
     "execution_count": 179,
     "metadata": {},
     "output_type": "execute_result"
    },
    {
     "data": {
      "image/png": "[encoded data removed]",
      "text/plain": [
       "<Figure size 432x288 with 1 Axes>"
      ]
     },
     "metadata": {
      "needs_background": "light"
     },
     "output_type": "display_data"
    }
   ],
   "source": [
    "#nums = np.random.rand(5612,1)\n",
    "nums = np.linspace(0,1, 5612).reshape(-1,1)\n",
    "plt.plot(nums, np.sort(y_proba[:,1]), \"g-\", label='Falha')\n",
    "plt.plot(nums, np.sort(y_proba[:,0]), \"b--\", label='Falha')\n"
   ]
  },
  {
   "cell_type": "code",
   "execution_count": 182,
   "id": "f4e605d0",
   "metadata": {},
   "outputs": [
    {
     "data": {
      "text/plain": [
       "(array([2.530e+02, 1.000e+00, 0.000e+00, 0.000e+00, 0.000e+00, 0.000e+00,\n",
       "        0.000e+00, 0.000e+00, 3.000e+00, 5.355e+03]),\n",
       " array([0. , 0.1, 0.2, 0.3, 0.4, 0.5, 0.6, 0.7, 0.8, 0.9, 1. ]),\n",
       " <BarContainer object of 10 artists>)"
      ]
     },
     "execution_count": 182,
     "metadata": {},
     "output_type": "execute_result"
    },
    {
     "data": {
      "image/png": "[encoded data removed]",
      "text/plain": [
       "<Figure size 432x288 with 1 Axes>"
      ]
     },
     "metadata": {
      "needs_background": "light"
     },
     "output_type": "display_data"
    }
   ],
   "source": [
    "plt.hist(y_proba[:, 0])"
   ]
  },
  {
   "cell_type": "code",
   "execution_count": 49,
   "id": "6dccaef8",
   "metadata": {},
   "outputs": [
    {
     "data": {
      "text/plain": [
       "(5612, 2)"
      ]
     },
     "execution_count": 49,
     "metadata": {},
     "output_type": "execute_result"
    }
   ],
   "source": [
    "np.shape(y_proba)"
   ]
  },
  {
   "cell_type": "code",
   "execution_count": 111,
   "id": "3f6e246f",
   "metadata": {},
   "outputs": [
    {
     "data": {
      "text/plain": [
       "1.0"
      ]
     },
     "execution_count": 111,
     "metadata": {},
     "output_type": "execute_result"
    }
   ],
   "source": [
    " y_proba[:,1].max()"
   ]
  },
  {
   "cell_type": "code",
   "execution_count": 98,
   "id": "e786a061",
   "metadata": {},
   "outputs": [
    {
     "name": "stdout",
     "output_type": "stream",
     "text": [
      "272 5612\n"
     ]
    }
   ],
   "source": [
    "r = y_proba[y_proba[:, 0] < 0.98]\n",
    "print(len(r), len(y_proba[:, 1]))"
   ]
  },
  {
   "cell_type": "code",
   "execution_count": 109,
   "id": "f6c99bfb",
   "metadata": {},
   "outputs": [
    {
     "data": {
      "text/plain": [
       "array([[0.00000000e+00],\n",
       "       [1.78221351e-04],\n",
       "       [3.56442702e-04],\n",
       "       ...,\n",
       "       [9.99643557e-01],\n",
       "       [9.99821779e-01],\n",
       "       [1.00000000e+00]])"
      ]
     },
     "execution_count": 109,
     "metadata": {},
     "output_type": "execute_result"
    }
   ],
   "source": [
    "np.linspace(0,1,len(y_proba)).reshape(-1,1)"
   ]
  }
 ],
 "metadata": {
  "hide_input": false,
  "kernelspec": {
   "display_name": "Python 3 (ipykernel)",
   "language": "python",
   "name": "python3"
  },
  "language_info": {
   "codemirror_mode": {
    "name": "ipython",
    "version": 3
   },
   "file_extension": ".py",
   "mimetype": "text/x-python",
   "name": "python",
   "nbconvert_exporter": "python",
   "pygments_lexer": "ipython3",
   "version": "3.12.4"
  },
  "nbTranslate": {
   "displayLangs": [
    "*"
   ],
   "hotkey": "alt-t",
   "langInMainMenu": true,
   "sourceLang": "en",
   "targetLang": "fr",
   "useGoogleTranslate": true
  },
  "toc": {
   "base_numbering": 1,
   "nav_menu": {},
   "number_sections": true,
   "sideBar": true,
   "skip_h1_title": false,
   "title_cell": "Table of Contents",
   "title_sidebar": "Contents",
   "toc_cell": false,
   "toc_position": {},
   "toc_section_display": true,
   "toc_window_display": false
  },
  "varInspector": {
   "cols": {
    "lenName": 16,
    "lenType": 16,
    "lenVar": 40
   },
   "kernels_config": {
    "python": {
     "delete_cmd_postfix": "",
     "delete_cmd_prefix": "del ",
     "library": "var_list.py",
     "varRefreshCmd": "print(var_dic_list())"
    },
    "r": {
     "delete_cmd_postfix": ") ",
     "delete_cmd_prefix": "rm(",
     "library": "var_list.r",
     "varRefreshCmd": "cat(var_dic_list()) "
    }
   },
   "types_to_exclude": [
    "module",
    "function",
    "builtin_function_or_method",
    "instance",
    "_Feature"
   ],
   "window_display": false
  }
 },
 "nbformat": 4,
 "nbformat_minor": 5
}
